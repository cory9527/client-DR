{
 "nbformat": 4,
 "nbformat_minor": 0,
 "metadata": {
  "kernelspec": {
   "language": "python",
   "display_name": "Python 3",
   "name": "python3"
  },
  "language_info": {
   "pygments_lexer": "ipython3",
   "nbconvert_exporter": "python",
   "version": "3.6.4",
   "file_extension": ".py",
   "codemirror_mode": {
    "name": "ipython",
    "version": 3
   },
   "name": "python",
   "mimetype": "text/x-python"
  },
  "colab": {
   "name": "Single_test_inference.ipynb",
   "provenance": [],
   "include_colab_link": true
  }
 },
 "cells": [
  {
   "cell_type": "markdown",
   "metadata": {
    "id": "view-in-github",
    "colab_type": "text"
   },
   "source": [
    "<a href=\"https://colab.research.google.com/github/souravs17031999/Retinal_blindness_detection_Pytorch/blob/master/Single_test_inference.ipynb\" target=\"_parent\"><img src=\"https://colab.research.google.com/assets/colab-badge.svg\" alt=\"Open In Colab\"/></a>"
   ]
  },
  {
   "cell_type": "code",
   "metadata": {
    "_uuid": "d629ff2d2480ee46fbb7e2d37f6b5fab8052498a",
    "_cell_guid": "79c7e3d0-c299-4dcb-8224-4455121ee9b0",
    "trusted": true,
    "id": "aqpNhKZhyQaI",
    "colab_type": "code",
    "colab": {},
    "outputId": "7f810a59-6171-4d42-93b9-6cd82ab55d3b"
   },
   "source": [
    "# Imports here\n",
    "from __future__ import print_function, division\n",
    "import numpy as np\n",
    "import matplotlib.pyplot as plt\n",
    "# from torch.utils import data\n",
    "import torch\n",
    "from torch import nn\n",
    "# from torch import optim\n",
    "import torchvision\n",
    "# import torch.nn.functional as F\n",
    "# from torchvision import datasets, transforms, models\n",
    "import torchvision.models as models\n",
    "# from torch.utils.data.sampler import SubsetRandomSampler\n",
    "from torch.utils.data import Dataset, DataLoader\n",
    "# from skimage import io, transform\n",
    "# import torch.utils.data as data_utils\n",
    "from PIL import Image, ImageFile\n",
    "import json\n",
    "from torch.optim import lr_scheduler\n",
    "# import time\n",
    "# import os\n",
    "# import argparse\n",
    "# import copy\n",
    "import pandas as pd\n",
    "ImageFile.LOAD_TRUNCATED_IMAGES = True\n",
    "# import cv2\n",
    "# Import useful sklearn functions\n",
    "# import sklearn\n",
    "# from sklearn.metrics import cohen_kappa_score, accuracy_score\n",
    "# import time\n",
    "# from tqdm import tqdm_notebook\n",
    "\n",
    "import os\n",
    "print(os.listdir(\"../input\"))\n",
    "base_dir = \"../input/aptos2019-blindness-detection/\""
   ],
   "execution_count": null,
   "outputs": []
  },
  {
   "cell_type": "code",
   "metadata": {
    "trusted": true,
    "id": "8thQ8UPsyQaM",
    "colab_type": "code",
    "colab": {},
    "outputId": "a9812f99-f709-440c-bdfd-b93f0b5ef29e"
   },
   "source": [
    "print(os.listdir(\"../input/kernel4f121f3247\"))\n"
   ],
   "execution_count": null,
   "outputs": []
  },
  {
   "cell_type": "code",
   "metadata": {
    "trusted": true,
    "id": "E1WjW_VUyQaa",
    "colab_type": "code",
    "colab": {}
   },
   "source": [
    "class CreateDataset(Dataset):\n",
    "    def __init__(self, df_data, data_dir = '../input/', transform=None):\n",
    "        super().__init__()\n",
    "        self.df = df_data.values\n",
    "        self.data_dir = data_dir\n",
    "        self.transform = transform\n",
    "\n",
    "    def __len__(self):\n",
    "        return len(self.df)\n",
    "    \n",
    "    def __getitem__(self, index):\n",
    "        img_name,label = self.df[index]\n",
    "        img_path = os.path.join(self.data_dir, img_name+'.png')\n",
    "        image = cv2.imread(img_path)  # if getting error, use PIL to load the image here.\n",
    "        if self.transform is not None:\n",
    "            image = self.transform(image)\n",
    "        return image, label"
   ],
   "execution_count": null,
   "outputs": []
  },
  {
   "cell_type": "code",
   "metadata": {
    "trusted": true,
    "id": "HDJRlQicyQap",
    "colab_type": "code",
    "colab": {}
   },
   "source": [
    "test_csv = pd.read_csv('../input/aptos2019-blindness-detection/test.csv')\n"
   ],
   "execution_count": null,
   "outputs": []
  },
  {
   "cell_type": "code",
   "metadata": {
    "trusted": true,
    "id": "gVppvdUfyQau",
    "colab_type": "code",
    "colab": {}
   },
   "source": [
    "test_path = \"../input/aptos2019-blindness-detection/test_images/\"\n"
   ],
   "execution_count": null,
   "outputs": []
  },
  {
   "cell_type": "code",
   "metadata": {
    "trusted": true,
    "id": "5uCeyL8CyQa7",
    "colab_type": "code",
    "colab": {}
   },
   "source": [
    "test_transforms = torchvision.transforms.Compose([\n",
    "    torchvision.transforms.Resize((224, 224)),\n",
    "    #torchvision.transforms.ColorJitter(brightness=2, contrast=2),\n",
    "    torchvision.transforms.RandomHorizontalFlip(p=0.5),\n",
    "    torchvision.transforms.ToTensor(),\n",
    "    torchvision.transforms.Normalize(mean=(0.485, 0.456, 0.406), std=(0.229, 0.224, 0.225))\n",
    "])"
   ],
   "execution_count": null,
   "outputs": []
  },
  {
   "cell_type": "code",
   "metadata": {
    "trusted": true,
    "id": "w4EMG86xyQa9",
    "colab_type": "code",
    "colab": {}
   },
   "source": [
    "test_csv['diagnosis'] = -1\n"
   ],
   "execution_count": null,
   "outputs": []
  },
  {
   "cell_type": "code",
   "metadata": {
    "trusted": true,
    "id": "H9ZYfDaCyQbJ",
    "colab_type": "code",
    "colab": {}
   },
   "source": [
    "test_data = CreateDataset(df_data=test_csv, data_dir=test_path, transform=test_transforms)\n",
    "test_loader = DataLoader(test_data, batch_size=64, shuffle=False)"
   ],
   "execution_count": null,
   "outputs": []
  },
  {
   "cell_type": "code",
   "metadata": {
    "trusted": true,
    "id": "6u4PbduZyQbM",
    "colab_type": "code",
    "colab": {}
   },
   "source": [
    "def round_off_preds(preds, coef=[0.5, 1.5, 2.5, 3.5]):\n",
    "    for i, pred in enumerate(preds):\n",
    "            if pred < coef[0]:\n",
    "                preds[i] = 0\n",
    "            elif pred >= coef[0] and pred < coef[1]:\n",
    "                preds[i] = 1\n",
    "            elif pred >= coef[1] and pred < coef[2]:\n",
    "                preds[i] = 2\n",
    "            elif pred >= coef[2] and pred < coef[3]:\n",
    "                preds[i] = 3\n",
    "            else:\n",
    "                preds[i] = 4\n",
    "    return preds"
   ],
   "execution_count": null,
   "outputs": []
  },
  {
   "cell_type": "code",
   "metadata": {
    "trusted": true,
    "id": "RoFP-7rkyQba",
    "colab_type": "code",
    "colab": {}
   },
   "source": [
    "def predict(testloader):\n",
    "    '''Function used to make predictions on the test set'''\n",
    "    model.eval()\n",
    "    preds = []\n",
    "    for batch_i, (data, target) in enumerate(testloader):\n",
    "        data, target = data.cuda(), target.cuda()\n",
    "        output = model(data)\n",
    "        pr = output.detach().cpu().numpy()\n",
    "        for i in pr:\n",
    "            preds.append(i.item())\n",
    "            \n",
    "    return preds"
   ],
   "execution_count": null,
   "outputs": []
  },
  {
   "cell_type": "code",
   "metadata": {
    "trusted": true,
    "id": "8OAK8mGwyQbi",
    "colab_type": "code",
    "colab": {}
   },
   "source": [
    "def load_model(path):\n",
    "  checkpoint = torch.load(path)\n",
    "  model.load_state_dict(checkpoint['model_state_dict'])\n",
    "  optimizer.load_state_dict(checkpoint['optimizer_state_dict'])\n",
    "  return model"
   ],
   "execution_count": null,
   "outputs": []
  },
  {
   "cell_type": "code",
   "metadata": {
    "trusted": true,
    "id": "K7f1z9RKyQbp",
    "colab_type": "code",
    "colab": {}
   },
   "source": [
    "device = torch.device(\"cuda\" if torch.cuda.is_available() else \"cpu\")\n",
    "\n",
    "model = models.resnet152(pretrained=False) \n",
    "\n",
    "num_ftrs = model.fc.in_features \n",
    "out_ftrs = 5 \n",
    "  \n",
    "model.fc = nn.Sequential(nn.Linear(num_ftrs, 512),nn.ReLU(),nn.Linear(512,out_ftrs),nn.LogSoftmax(dim=1))\n",
    "\n",
    "criterion = nn.NLLLoss()\n",
    "optimizer = torch.optim.Adam(filter(lambda p:p.requires_grad,model.parameters()) , lr = 0.00001) \n",
    "\n",
    "scheduler = lr_scheduler.StepLR(optimizer, step_size=5, gamma=0.1)\n",
    "model.to(device);"
   ],
   "execution_count": null,
   "outputs": []
  },
  {
   "cell_type": "code",
   "metadata": {
    "trusted": true,
    "id": "pF7lrBGyyQby",
    "colab_type": "code",
    "colab": {},
    "outputId": "38443da0-2db4-4f4c-8ce2-50f9a35507dd"
   },
   "source": [
    "# to unfreeze more layers \n",
    "for name,child in model.named_children():\n",
    "  if name in ['layer2','layer3','layer4','fc']:\n",
    "    print(name + 'is unfrozen')\n",
    "    for param in child.parameters():\n",
    "      param.requires_grad = True\n",
    "  else:\n",
    "    print(name + 'is frozen')\n",
    "    for param in child.parameters():\n",
    "      param.requires_grad = False"
   ],
   "execution_count": null,
   "outputs": []
  },
  {
   "cell_type": "code",
   "metadata": {
    "trusted": true,
    "id": "sqaWCqQ6yQb-",
    "colab_type": "code",
    "colab": {}
   },
   "source": [
    "optimizer = torch.optim.Adam(filter(lambda p:p.requires_grad,model.parameters()) , lr = 0.000001) \n",
    "scheduler = lr_scheduler.StepLR(optimizer, step_size=5, gamma=0.1)"
   ],
   "execution_count": null,
   "outputs": []
  },
  {
   "cell_type": "code",
   "metadata": {
    "trusted": true,
    "id": "kHPsRfUEyQcK",
    "colab_type": "code",
    "colab": {}
   },
   "source": [
    "model = load_model(\"../input/kernel4f121f3247/classifier.pt\")\n"
   ],
   "execution_count": null,
   "outputs": []
  },
  {
   "cell_type": "code",
   "metadata": {
    "trusted": true,
    "id": "oToTzW9UyQcP",
    "colab_type": "code",
    "colab": {}
   },
   "source": [
    "test_dir = \"../input/aptos2019-blindness-detection/test_images/\""
   ],
   "execution_count": null,
   "outputs": []
  },
  {
   "cell_type": "code",
   "metadata": {
    "trusted": true,
    "id": "MmUx-hEryQcT",
    "colab_type": "code",
    "colab": {},
    "outputId": "5c1a0350-f03e-449f-937a-6c99980e9640"
   },
   "source": [
    "with torch.no_grad():\n",
    "    model.eval()\n",
    "    p_labels = []\n",
    "    img_ids = []\n",
    "    i = 0\n",
    "    for inputs, labels in test_loader:\n",
    "        i += 1\n",
    "        if i % 10 == 0:\n",
    "            print(f'{i} pass step')\n",
    "        inputs = inputs.to(device)\n",
    "        labels = labels.to(device)\n",
    "        outputs = model(inputs)\n",
    "        _, preds = torch.max(outputs, 1)\n",
    "        p_labels.append(preds)\n",
    "    # getting ids of file images    "
   ],
   "execution_count": null,
   "outputs": []
  },
  {
   "cell_type": "code",
   "metadata": {
    "trusted": true,
    "id": "n58Bf7aRyQch",
    "colab_type": "code",
    "colab": {},
    "outputId": "5118c232-c777-47de-a789-d7e5b549efb5"
   },
   "source": [
    "p_labels"
   ],
   "execution_count": null,
   "outputs": []
  },
  {
   "cell_type": "code",
   "metadata": {
    "trusted": true,
    "id": "fsWeTc0SyQdA",
    "colab_type": "code",
    "colab": {}
   },
   "source": [
    "pred_labels = []\n",
    "for l in p_labels:\n",
    "    for l1 in l:\n",
    "        pred_labels.append(l1.item())"
   ],
   "execution_count": null,
   "outputs": []
  },
  {
   "cell_type": "code",
   "metadata": {
    "trusted": true,
    "id": "siCP7zPkyQdm",
    "colab_type": "code",
    "colab": {}
   },
   "source": [
    "sample_sub = pd.read_csv('../input/aptos2019-blindness-detection/sample_submission.csv')\n"
   ],
   "execution_count": null,
   "outputs": []
  },
  {
   "cell_type": "code",
   "metadata": {
    "trusted": true,
    "id": "zZ2SmY-NyQd2",
    "colab_type": "code",
    "colab": {}
   },
   "source": [
    "sample_sub.diagnosis = pred_labels\n"
   ],
   "execution_count": null,
   "outputs": []
  },
  {
   "cell_type": "code",
   "metadata": {
    "trusted": true,
    "id": "QGFIu9W5yQeD",
    "colab_type": "code",
    "colab": {},
    "outputId": "b27de66f-20ce-4127-f2d6-4e0c2126751e"
   },
   "source": [
    "sample_sub.head"
   ],
   "execution_count": null,
   "outputs": []
  },
  {
   "cell_type": "code",
   "metadata": {
    "trusted": true,
    "id": "S9YwxsNCyQeP",
    "colab_type": "code",
    "colab": {}
   },
   "source": [
    "sample_sub.to_csv('submission.csv', index=False)"
   ],
   "execution_count": null,
   "outputs": []
  },
  {
   "cell_type": "code",
   "metadata": {
    "trusted": true,
    "id": "RVctDWuOyQeY",
    "colab_type": "code",
    "colab": {}
   },
   "source": [
    "def test_with_single_image(model, file, transform, classes):\n",
    "\n",
    "    file = Image.open(file).convert('RGB')\n",
    "\n",
    "    img = transform(file).unsqueeze(0)\n",
    "\n",
    "    device = torch.device(\"cuda\" if torch.cuda.is_available() else \"cpu\")\n",
    "\n",
    "    with torch.no_grad():\n",
    "        out = model(img.to(device))\n",
    "        ps = torch.exp(out)\n",
    "        top_p, top_class = ps.topk(1, dim=1)\n",
    "        value = top_class.item()\n",
    "        print(\"Value:\", value)\n",
    "        print(classes[value])\n",
    "        plt.imshow(np.array(file))\n",
    "        plt.show()"
   ],
   "execution_count": null,
   "outputs": []
  },
  {
   "cell_type": "code",
   "metadata": {
    "trusted": true,
    "id": "KLWNzaJLyQeo",
    "colab_type": "code",
    "colab": {},
    "outputId": "e80b5a7f-5494-4ad9-b1bd-510415cd6479"
   },
   "source": [
    "import random\n",
    "\n",
    "test_dir = \"../input/aptos2019-blindness-detection\"\n",
    "# take random folder first\n",
    "folders = os.listdir(test_dir)\n",
    "num = 2\n",
    "path = test_dir+\"/\"+folders[num]\n",
    "print(path)\n",
    "# save label\n",
    "label = folders[num]\n",
    "\n",
    "# now take random file\n",
    "files = os.listdir(path)\n",
    "num = random.randint(0, len(files)-1)\n",
    "name = path + \"/\" + files[num]\n",
    "print('Path: ', name)"
   ],
   "execution_count": null,
   "outputs": []
  },
  {
   "cell_type": "code",
   "metadata": {
    "trusted": true,
    "id": "Nvcd6JNPyQe4",
    "colab_type": "code",
    "colab": {},
    "outputId": "9f743824-3d58-4b9a-d81c-04dffc9d2b36"
   },
   "source": [
    "classes = ['No DR', 'Mild', 'Moderate', 'Severe', 'Proliferative DR']\n",
    "test_with_single_image(model, name, test_transforms, classes)\n"
   ],
   "execution_count": null,
   "outputs": []
  }
 ]
}
